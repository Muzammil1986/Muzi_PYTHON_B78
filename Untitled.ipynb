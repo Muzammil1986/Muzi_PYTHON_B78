{
 "cells": [
  {
   "cell_type": "code",
   "execution_count": 1,
   "id": "0147005f",
   "metadata": {},
   "outputs": [
    {
     "name": "stdout",
     "output_type": "stream",
     "text": [
      "welcome to batch 78 python language hello world\n"
     ]
    }
   ],
   "source": [
    "print (\"welcome to batch 78 python language hello world\")"
   ]
  },
  {
   "cell_type": "code",
   "execution_count": null,
   "id": "53466e37",
   "metadata": {},
   "outputs": [],
   "source": []
  }
 ],
 "metadata": {
  "kernelspec": {
   "display_name": "Python 3 (ipykernel)",
   "language": "python",
   "name": "python3"
  },
  "language_info": {
   "codemirror_mode": {
    "name": "ipython",
    "version": 3
   },
   "file_extension": ".py",
   "mimetype": "text/x-python",
   "name": "python",
   "nbconvert_exporter": "python",
   "pygments_lexer": "ipython3",
   "version": "3.10.9"
  }
 },
 "nbformat": 4,
 "nbformat_minor": 5
}
